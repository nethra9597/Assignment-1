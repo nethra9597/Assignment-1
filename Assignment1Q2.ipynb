{
  "nbformat": 4,
  "nbformat_minor": 0,
  "metadata": {
    "colab": {
      "provenance": [],
      "collapsed_sections": []
    },
    "kernelspec": {
      "name": "python3",
      "display_name": "Python 3"
    },
    "language_info": {
      "name": "python"
    }
  },
  "cells": [
    {
      "cell_type": "code",
      "source": [
        "#IMPORTS\n",
        "import numpy as np\n",
        "import pandas"
      ],
      "metadata": {
        "id": "k3oGQ2DxMutH"
      },
      "execution_count": 1,
      "outputs": []
    },
    {
      "cell_type": "code",
      "source": [
        "# Execute this block for file input\n",
        "INPUT_FILE_NAME = \"\"\n",
        "\"\"\"\"\n",
        "Expected format: Header followed by integers delimited by newlines.\n",
        "\"\"\"\n",
        "input_series = list(pandas.read_csv(INPUT_FILE_NAME))"
      ],
      "metadata": {
        "id": "Ql6QXkTjSoSA"
      },
      "execution_count": null,
      "outputs": []
    },
    {
      "cell_type": "code",
      "source": [
        "# Execute this block for user input\n",
        "\"\"\"\"\n",
        "Expected format : Numbers in an array delimited by comma\n",
        "\"\"\"\n",
        "input_series = [int(num) for num in input().split(\",\")]"
      ],
      "metadata": {
        "id": "isM52DiVSn7i",
        "outputId": "e0626e93-2be3-4d6f-a553-545aa4769e11",
        "colab": {
          "base_uri": "https://localhost:8080/"
        }
      },
      "execution_count": 20,
      "outputs": [
        {
          "name": "stdout",
          "output_type": "stream",
          "text": [
            "20,10,5,10\n"
          ]
        }
      ]
    },
    {
      "cell_type": "code",
      "execution_count": 21,
      "metadata": {
        "id": "jt7XSA4eMo2S"
      },
      "outputs": [],
      "source": [
        "#Custom function to generate adjacency matrix for the provided HVG\n",
        "def adjacency_matrix(time_series):\n",
        "  shape = len(time_series)\n",
        "  output_matrix = np.zeros(\n",
        "        shape = (shape, shape),\n",
        "        dtype=int\n",
        "    )\n",
        "  input_array=time_series\n",
        "  \n",
        "#Initializing the index variable\n",
        "  init=0\n",
        "\n",
        "#Code block to find the highest visible subsequent value in the array\n",
        "  while init < shape:\n",
        "    comparable = init+1\n",
        "    while comparable < shape:\n",
        "      if(input_array[init] < input_array[comparable]) or (input_array[init] == input_array[comparable]):\n",
        "        output_matrix[init][comparable] = 1\n",
        "        output_matrix[comparable][init] = 1\n",
        "        break\n",
        "      comparable=comparable+1\n",
        "    init=init+1\n",
        "\n",
        "#Code block to make all neighboring values True\n",
        "  init = 1\n",
        "  while init < shape:\n",
        "    output_matrix[init-1][init] = 1\n",
        "    output_matrix[init][init-1] = 1\n",
        "    init=init+1\n",
        "\n",
        "  return output_matrix\n"
      ]
    },
    {
      "cell_type": "code",
      "source": [
        "#Passing the user input as arguement to generate adjacency matrix.\n",
        "\n",
        "print(adjacency_matrix(input_series))\n"
      ],
      "metadata": {
        "colab": {
          "base_uri": "https://localhost:8080/"
        },
        "id": "OWR15ODTM7Qj",
        "outputId": "7528e99c-c9e8-4e8c-ab97-1ff78adfbc3a"
      },
      "execution_count": 22,
      "outputs": [
        {
          "output_type": "stream",
          "name": "stdout",
          "text": [
            "[[0 1 0 0]\n",
            " [1 0 1 1]\n",
            " [0 1 0 1]\n",
            " [0 1 1 0]]\n"
          ]
        }
      ]
    },
    {
      "cell_type": "code",
      "source": [
        "!jupyter nbconvert --to html Assignment1Q2.ipynb"
      ],
      "metadata": {
        "colab": {
          "base_uri": "https://localhost:8080/"
        },
        "id": "PYPIaio9SX1J",
        "outputId": "1c15ab33-ea4f-4290-ab51-cf5dc78aca2a"
      },
      "execution_count": null,
      "outputs": [
        {
          "output_type": "stream",
          "name": "stdout",
          "text": [
            "[NbConvertApp] Converting notebook Assignment1Q2.ipynb to html\n",
            "[NbConvertApp] Writing 279087 bytes to Assignment1Q2.html\n"
          ]
        }
      ]
    }
  ]
}