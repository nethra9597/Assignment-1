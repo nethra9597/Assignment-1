{
  "nbformat": 4,
  "nbformat_minor": 0,
  "metadata": {
    "colab": {
      "provenance": []
    },
    "kernelspec": {
      "name": "python3",
      "display_name": "Python 3"
    },
    "language_info": {
      "name": "python"
    }
  },
  "cells": [
    {
      "cell_type": "code",
      "source": [
        "#IMPORTS\n",
        "import numpy as np\n",
        "import pandas"
      ],
      "metadata": {
        "id": "k3oGQ2DxMutH"
      },
      "execution_count": 1,
      "outputs": []
    },
    {
      "cell_type": "code",
      "source": [
        "# Execute this block for file input\n",
        "INPUT_FILE_NAME = \"\"\n",
        "\"\"\"\"\n",
        "Expected format: Header followed by integers delimited by newlines.\n",
        "\"\"\"\n",
        "input_series = list(pandas.read_csv(INPUT_FILE_NAME))"
      ],
      "metadata": {
        "id": "Ql6QXkTjSoSA"
      },
      "execution_count": null,
      "outputs": []
    },
    {
      "cell_type": "code",
      "source": [
        "# Execute this block for user input\n",
        "\"\"\"\"\n",
        "Expected format : Numbers in an array delimited by comma\n",
        "\"\"\"\n",
        "input_series = [int(num) for num in input().split(\",\")]"
      ],
      "metadata": {
        "id": "isM52DiVSn7i"
      },
      "execution_count": null,
      "outputs": []
    },
    {
      "cell_type": "code",
      "execution_count": 9,
      "metadata": {
        "id": "jt7XSA4eMo2S"
      },
      "outputs": [],
      "source": [
        "#Custom function to generate adjacency matrix for the provided HVG\n",
        "def adjacency_matrix(time_series):\n",
        "  shape = len(time_series)\n",
        "  output_matrix = np.zeros(\n",
        "        shape = (shape, shape),\n",
        "        dtype=int\n",
        "    )\n",
        "  input_array=time_series\n",
        "  #Initializing the index variable\n",
        "  init=0\n",
        "\n",
        "#Code block to find the highest visible subsequent value in the array\n",
        "  while init < shape:\n",
        "    comparable = init+1\n",
        "    while comparable < shape:\n",
        "      if(input_array[init] < input_array[comparable]):\n",
        "        output_matrix[init][comparable] = 1\n",
        "        output_matrix[comparable][init] = 1\n",
        "        break\n",
        "      comparable=comparable+1\n",
        "    init=init+1\n",
        "\n",
        "#Code block to make all neighboring values True\n",
        "  init = 1\n",
        "  while init < shape:\n",
        "    output_matrix[init-1][init] = 1\n",
        "    output_matrix[init][init-1] = 1\n",
        "    init=init+1\n",
        "\n",
        "  return output_matrix\n"
      ]
    },
    {
      "cell_type": "code",
      "source": [
        "#Passing the user input as arguement to generate adjacency matrix.\n",
        "\n",
        "print(adjacency_matrix(input_series))\n",
        "\n",
        "#print(adjacency_matrix([10,15,5,10,15]))"
      ],
      "metadata": {
        "colab": {
          "base_uri": "https://localhost:8080/"
        },
        "id": "OWR15ODTM7Qj",
        "outputId": "a8742094-e379-472c-8054-dfa7dd5676b6"
      },
      "execution_count": 3,
      "outputs": [
        {
          "output_type": "stream",
          "name": "stdout",
          "text": [
            "[[0 1 0 0 0]\n",
            " [1 0 1 1 0]\n",
            " [0 1 0 1 0]\n",
            " [0 1 1 0 1]\n",
            " [0 0 0 1 0]]\n",
            "[[0 1 0 0 0]\n",
            " [1 0 1 0 0]\n",
            " [0 1 0 1 0]\n",
            " [0 0 1 0 1]\n",
            " [0 0 0 1 0]]\n"
          ]
        }
      ]
    },
    {
      "cell_type": "code",
      "source": [],
      "metadata": {
        "id": "PYPIaio9SX1J"
      },
      "execution_count": null,
      "outputs": []
    }
  ]
}